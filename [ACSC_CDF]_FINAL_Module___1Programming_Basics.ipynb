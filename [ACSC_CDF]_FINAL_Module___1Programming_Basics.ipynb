{
  "nbformat": 4,
  "nbformat_minor": 0,
  "metadata": {
    "colab": {
      "name": "[ACSC-CDF]  FINAL Module _ 1Programming_Basics.ipynb",
      "provenance": [],
      "include_colab_link": true
    },
    "kernelspec": {
      "name": "python3",
      "display_name": "Python 3"
    },
    "language_info": {
      "name": "python"
    }
  },
  "cells": [
    {
      "cell_type": "markdown",
      "metadata": {
        "id": "view-in-github",
        "colab_type": "text"
      },
      "source": [
        "<a href=\"https://colab.research.google.com/github/jclarknias/ACSC/blob/main/%5BACSC_CDF%5D_FINAL_Module___1Programming_Basics.ipynb\" target=\"_parent\"><img src=\"https://colab.research.google.com/assets/colab-badge.svg\" alt=\"Open In Colab\"/></a>"
      ]
    },
    {
      "cell_type": "markdown",
      "source": [
        "\n",
        "**To run this notebook using XSEDE OnDEMAND via Bridges2 goto** - https://ondemand.bridges2.psc.edu/pun/sys/dashboard\n",
        "\n",
        "\n",
        "*   Interactive Apps\n",
        "*   Jupyter Notebook\n",
        "*   Launch\n",
        "*   Connect to Jupyter\n",
        "*   Upload - select location of ipynb file\n",
        "\n",
        "\n",
        "\n",
        "\n"
      ],
      "metadata": {
        "id": "dIvm_TkKIfwa"
      }
    },
    {
      "cell_type": "markdown",
      "metadata": {
        "id": "hLfqQ9AtCRvS"
      },
      "source": [
        "Let's get into Python.\n",
        "\n",
        "# **Module 1:  Programming Basics**\n",
        "\n",
        "# **Lesson 1:  Whitespace**\n",
        "\n",
        "When you are writing programs in Python how text is alligned in the code window matters.\n",
        "\n",
        "***Whitespace*** is any black space, tab, or new line.\n",
        "\n",
        "Python does not care how many empty lines you have in your programs but indentations make a difference. When we start programming it will be good practice to begin to take notice of how your code bumps up against the edge of the window.\n",
        "\n",
        "\n",
        "\n",
        "```\n",
        "#Here is a line of code with no whitespace at the front\n",
        "print('Hey Cutie Pie')\n",
        "```\n",
        "\n",
        "\n",
        "\n",
        "```\n",
        "#Here is an indented line of code \n",
        "   print('Where are you going?')\n",
        "```\n",
        "\n",
        "Now there are certain specific circumstances where you need to indent and I will get into that later. \n",
        "\n",
        "*For now you want to make certain every new line of code is right up to the edge of the window.*\n",
        "\n"
      ]
    },
    {
      "cell_type": "markdown",
      "metadata": {
        "id": "BapcL66lFFvE"
      },
      "source": [
        "\n",
        "\n",
        "---\n",
        "\n",
        "# **Lesson 2:  Precision**\n",
        "\n",
        "Programming is about precision.  You must get used to looking very closely at your code for small differences or annomolies.\n",
        "\n",
        "Just like English is the written language you are reading right now... Python is a language as well.  Languages have ***syntax*** - or rules for how it works.\n",
        "\n",
        "*Hi my name Jaye.*\n",
        "\n",
        "You could read this but if this were a Python script...it would have errors that would make it illegible.  Computers are not as smart as humans but they are much more precise.  You would need to correct the syntax errors in the sentence.\n",
        "\n",
        "*Hi.  My name is Jaye.* \n",
        "or \n",
        "*Hi.  My name?  It's Jaye.*\n"
      ]
    },
    {
      "cell_type": "markdown",
      "metadata": {
        "id": "X5k6m1PSJ6cW"
      },
      "source": [
        "\n",
        "\n",
        "---\n",
        "\n",
        "\n",
        "# **Lesson 3:  Python Basics**\n",
        "\n",
        "What we call a sentence in English is known as a statement in Python.  Python statements are the commands or actions for a computer.  Statements can have three three items:\n",
        "\n",
        "***keywords***:  These are special words that already have a defined meaning in Python.\n",
        "\n",
        "*Look at the lines of code below.  The word print is in brown and is a keyword.  Once you've clicked the block of code below. Press the Run button on the top to see what action the print keyword performs.*\n"
      ]
    },
    {
      "cell_type": "code",
      "metadata": {
        "id": "jd8mDl1WglMF"
      },
      "source": [
        "#print is an example of a keyword\n",
        "\n",
        "print(\"Python is Easy\")"
      ],
      "execution_count": null,
      "outputs": []
    },
    {
      "cell_type": "code",
      "source": [
        ""
      ],
      "metadata": {
        "id": "rFERVbnyKHx5"
      },
      "execution_count": null,
      "outputs": []
    },
    {
      "cell_type": "markdown",
      "metadata": {
        "id": "Cx4VcN8Ngmfq"
      },
      "source": [
        "***operators***:  They are symbols.  Like punctuation in English operators tell the computer to perform an action or make a decision.\n",
        "\n",
        "You already know some operators:\n",
        " ' +    -   /  *  # '\n",
        "\n",
        "```\n",
        "# I used the hashtag before.  Like in social media using the hashtag is just a way to put a note in your code\n",
        "# the text can only span one line so you need an additional\n",
        "# hastag if you want to have multiple comment lines\n",
        "```\n",
        "\n",
        "Operators typically need some data to perform their operations on.  We call this data ***input*** or ***operands***.  \n",
        "\n",
        "In the code below the numbers 4 and 3 are the input but input does not have to just be numbers.  Input can be any kind of data depending on the operand."
      ]
    },
    {
      "cell_type": "code",
      "metadata": {
        "id": "Jzz2uBmynkME"
      },
      "source": [
        "4 + 3 "
      ],
      "execution_count": null,
      "outputs": []
    },
    {
      "cell_type": "markdown",
      "metadata": {
        "id": "KaB_PJukn3cx"
      },
      "source": [
        "When programming order of operations is the same as math except there are additional operators to consider.  \n",
        "\n",
        "We won't get into the details but look at the code below.  What do you expect the answer to be?\n",
        "\n",
        "*Press play to see if you are correct.*\n",
        "\n",
        "But what if you really wanted the expression to evaluate to 27.  You can add parenthesis to the statement to affect the order of precedence.\n",
        "\n",
        "*add the appropriate parenthesis to make the expression 27*"
      ]
    },
    {
      "cell_type": "code",
      "metadata": {
        "id": "7GFDBXJbpMlQ"
      },
      "source": [
        "3*2+7"
      ],
      "execution_count": null,
      "outputs": []
    },
    {
      "cell_type": "markdown",
      "metadata": {
        "id": "w7xqwvnLq64V"
      },
      "source": [
        "***expressions***:  the combination of operators and operands that break down to a single value.\n",
        "\n",
        "The line of code above was an example of an expression.\n",
        "\n",
        "\n",
        "---\n",
        "\n"
      ]
    },
    {
      "cell_type": "markdown",
      "metadata": {
        "id": "cHJb7rY1ruQx"
      },
      "source": [
        "# **Lesson 3:  Troubleshooting**\n",
        "\n",
        "***syntax*** - you broke the rules of the language\n",
        "\n",
        "An english ex: *Their going over they're to there board.*\n",
        "\n",
        "\n",
        "***runtime*** - the writing was correct but the computer was unable to execute.\n",
        "\n",
        "*They're going over there to their bored.*\n",
        "\n",
        "***semantic*** - you didn't get the results you expected.  These are \n",
        "\n",
        "*THeY'rE GOiNg OvEr THeRe tO THeIr seAt.*\n",
        "\n",
        "*If you don't understand the error - you can research online to find help.  Use the website below to see if you can correct the errors  in the code below.*\n",
        "\n",
        "https://stackoverflow.com/"
      ]
    },
    {
      "cell_type": "code",
      "metadata": {
        "id": "x2ikeBs0xBPL"
      },
      "source": [
        "20 * (2/0) #a runtime error"
      ],
      "execution_count": null,
      "outputs": []
    },
    {
      "cell_type": "code",
      "metadata": {
        "id": "wBv94FUhw20E"
      },
      "source": [
        "print(Hello world) #a syntax error"
      ],
      "execution_count": null,
      "outputs": []
    },
    {
      "cell_type": "code",
      "metadata": {
        "id": "v73-skKzyoyu"
      },
      "source": [
        "print(\"Hi Name\") #a semantic error #this was supposed to print your own name in the output"
      ],
      "execution_count": null,
      "outputs": []
    },
    {
      "cell_type": "markdown",
      "metadata": {
        "id": "InpVgLYXzdXE"
      },
      "source": [
        "\n",
        "\n",
        "---\n",
        "\n",
        "# **Lesson 4: Variables and Data Types**\n",
        "\n",
        "Like humans who can store and recall information easily in our brains, computers need to store each piece of information in it's memory.\n",
        "\n",
        "These memory locations have very complex addresses that we don't always want to keep track of -- or remember.\n",
        "\n",
        "So we use ***named variables*** to hold information for our programs.  [These names have rules you can find here.](https://www.w3schools.com/python/gloss_python_variable_names.asp)\n",
        "\n",
        "We declare variables in Python by giving them a name and a value using the assignment operator  = .\n",
        "\n",
        "*Let's create a variable called name and assign your name to it. Replace Darla Ellis with your own name*"
      ]
    },
    {
      "cell_type": "code",
      "metadata": {
        "id": "s3HdyuOx3ckG"
      },
      "source": [
        "name = \"Darla Ellis\"\n",
        "print(name)"
      ],
      "execution_count": null,
      "outputs": []
    },
    {
      "cell_type": "markdown",
      "metadata": {
        "id": "vQNp-cMT4ZIH"
      },
      "source": [
        "An equals sign = does not mean the same as math class.\n",
        "\n",
        "It tells the computer to take the value on the right of the operator and put it in the named memory location on the left.\n",
        "\n",
        "Also notice, the print statement doesn't have \"\" like before.  That's because we don't have to state the ***type*** of named variables.\n",
        "\n",
        "**Here are some different types of data in Python:**\n",
        "\n",
        "> *integer* - whole numbers\n",
        "\n",
        "> *double/float* - numbers with decimals\n",
        "\n",
        "> *string* - words with spaces\n",
        "\n",
        "> *characters* - a single keystroke value (including letters, symbols, and tabs)\n",
        "\n",
        "\n",
        "\n",
        "\n",
        "The code below shows how to define variables of these data types."
      ]
    },
    {
      "cell_type": "code",
      "metadata": {
        "id": "dISENl4y5i5Y"
      },
      "source": [
        "number = -12 #integer\n",
        "\n",
        "pi = 3.15 #decimal\n",
        "\n",
        "name = 'Spelman College'\n",
        "\n",
        "middle_initial = 'A'"
      ],
      "execution_count": null,
      "outputs": []
    },
    {
      "cell_type": "markdown",
      "metadata": {
        "id": "YwzL5tW762DC"
      },
      "source": [
        "\n",
        "\n",
        "\n",
        "---\n",
        "# **Challenge 1**\n",
        "*Complete the simple challenge below, take a picture with your phone and text it to me (Jaye) 443-250-6901.  The first to send it will win a small prize.*\n",
        "\n",
        "***In the code window below, write a program to store 4 pieces of data about yourself into 4 named variables of your choosing.***  \n",
        "\n",
        "***Using print statement display all of this data.***\n",
        "\n",
        "*Try to use each of the data types*"
      ]
    },
    {
      "cell_type": "code",
      "metadata": {
        "id": "ehI6fiFy7SJm"
      },
      "source": [
        "#Challenge 1 code goes here"
      ],
      "execution_count": null,
      "outputs": []
    },
    {
      "cell_type": "markdown",
      "metadata": {
        "id": "-0yw2tUk7v2G"
      },
      "source": [
        "Extras: **Rules for Variable Names**\n",
        "\n",
        "\n",
        "*   No keywords\n",
        "*   Can not start with a number or symbols.\n",
        "* Only contains letters, numbers, and underscores. (your_name2)\n",
        "* Spaces are not allowed (your name)\n",
        "* Names are case senstitive (yourName vs yourname)\n",
        "\n",
        "\n"
      ]
    }
  ]
}