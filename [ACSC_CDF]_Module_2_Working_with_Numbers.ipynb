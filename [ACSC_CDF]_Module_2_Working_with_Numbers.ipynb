{
  "nbformat": 4,
  "nbformat_minor": 0,
  "metadata": {
    "colab": {
      "name": "[ACSC-CDF] Module 2 Working with Numbers.ipynb",
      "provenance": [],
      "authorship_tag": "ABX9TyORGrkTW3bSGsgU164IVq3o",
      "include_colab_link": true
    },
    "kernelspec": {
      "name": "python3",
      "display_name": "Python 3"
    },
    "language_info": {
      "name": "python"
    }
  },
  "cells": [
    {
      "cell_type": "markdown",
      "metadata": {
        "id": "view-in-github",
        "colab_type": "text"
      },
      "source": [
        "<a href=\"https://colab.research.google.com/github/jclarknias/ACSC/blob/main/%5BACSC_CDF%5D_Module_2_Working_with_Numbers.ipynb\" target=\"_parent\"><img src=\"https://colab.research.google.com/assets/colab-badge.svg\" alt=\"Open In Colab\"/></a>"
      ]
    },
    {
      "cell_type": "markdown",
      "metadata": {
        "id": "eGZuoCf394_5"
      },
      "source": [
        "# **Module 2: Working with Numbers**\n",
        "\n",
        "\n",
        "\n",
        "---\n",
        "\n",
        "\n",
        "\n",
        "## **Lesson 1: Working with Numerical Operators**\n",
        "\n",
        "We discussed operators previously but let's explore more about mathematical operators."
      ]
    },
    {
      "cell_type": "code",
      "metadata": {
        "id": "pWQz5wd8ArFT"
      },
      "source": [
        "#addition\n",
        "2 + 3"
      ],
      "execution_count": null,
      "outputs": []
    },
    {
      "cell_type": "code",
      "metadata": {
        "id": "_ZFh641qA8MG"
      },
      "source": [
        "#subtraction\n",
        "6-4"
      ],
      "execution_count": null,
      "outputs": []
    },
    {
      "cell_type": "code",
      "metadata": {
        "id": "xaauQ4EFA9xV"
      },
      "source": [
        "#multiplication\n",
        "6*3"
      ],
      "execution_count": null,
      "outputs": []
    },
    {
      "cell_type": "code",
      "metadata": {
        "id": "lScHwz9bBDtb"
      },
      "source": [
        "#exponent\n",
        "2**3"
      ],
      "execution_count": null,
      "outputs": []
    },
    {
      "cell_type": "code",
      "metadata": {
        "id": "nqg0T_vzBBV2"
      },
      "source": [
        "#division\n",
        "3/2"
      ],
      "execution_count": null,
      "outputs": []
    },
    {
      "cell_type": "code",
      "metadata": {
        "id": "aSTzoUenBJw4"
      },
      "source": [
        "#floor division (we only want the whole number)\n",
        "3 // 2"
      ],
      "execution_count": null,
      "outputs": []
    },
    {
      "cell_type": "code",
      "metadata": {
        "id": "jQAoaGoQBdA_"
      },
      "source": [
        "#modulus (division where we only want the remainder)\n",
        "3%2"
      ],
      "execution_count": null,
      "outputs": []
    },
    {
      "cell_type": "markdown",
      "metadata": {
        "id": "4PVTTNNxBzcM"
      },
      "source": [
        "We can also store the result of our numerical expressions in variables and use them to do lots of things with our programs.\n",
        "\n"
      ]
    },
    {
      "cell_type": "code",
      "metadata": {
        "id": "FdmZS62pCMNF"
      },
      "source": [
        "#this program calculates age based on year of birth and current year\n",
        "\n",
        "year_of_birth = 2000\n",
        "\n",
        "current_year = 2021\n",
        "\n",
        "age = current_year - year_of_birth\n",
        "\n",
        "print(age)"
      ],
      "execution_count": null,
      "outputs": []
    },
    {
      "cell_type": "code",
      "metadata": {
        "colab": {
          "base_uri": "https://localhost:8080/"
        },
        "id": "-BtuvXGIFLOH",
        "outputId": "ee80dc5e-21bc-4156-9e72-4d5fdbc0e07a"
      },
      "source": [
        "#this program calculates annual salary based on hourly rate\n",
        "\n",
        "wage = 20.00\n",
        "hours = 40\n",
        "weeks = 50\n",
        "\n",
        "salary = wage * hours * weeks\n",
        "\n",
        "print('salary: $', salary ) #Woah, look at this print statement (* )< (* ) "
      ],
      "execution_count": null,
      "outputs": [
        {
          "output_type": "stream",
          "text": [
            "salary: $ 40000.0\n"
          ],
          "name": "stdout"
        }
      ]
    },
    {
      "cell_type": "markdown",
      "metadata": {
        "id": "vDMBETl_Gvt3"
      },
      "source": [
        "\n",
        "\n",
        "---\n",
        "\n",
        "\n",
        "# **Lesson 2:  Input and Output**\n",
        "\n",
        "So up to this point...all of our data has been defined in our programs.  But sometimes we may want the users of our programs to supply their own values.\n",
        "\n",
        "Just like we used the keyword print() to output to the display, we can use the keyword input() to grab from the display what the user types at the prompt.  \n",
        "\n",
        "Look at the code below carefully before your run it.  Notice the assignment operator.\n",
        "\n",
        "***Add to the code below a line to store a the first value as fname second value as lname, and display the full name of the user with the word Hi in front ***\n",
        "\n",
        "\n",
        "Sample *input* and output\n",
        "```\n",
        "Jaye\n",
        "Nias\n",
        "\n",
        "Hi Jaye Nias\n",
        "```\n",
        "\n"
      ]
    },
    {
      "cell_type": "code",
      "metadata": {
        "id": "YoQk6-_uHw1G"
      },
      "source": [
        "fname = input()\n",
        "lname = input()\n",
        "print('Hi ', fname, lname)"
      ],
      "execution_count": null,
      "outputs": []
    },
    {
      "cell_type": "markdown",
      "metadata": {
        "id": "3KRmhq_5JD5I"
      },
      "source": [
        "Because the values gathered from the user are typed on the keyboard, Python receives these values as strings (remember strings are not numerical values even if they contain numbers).\n",
        "\n",
        "The following code give an error because Python does not know how to perform mathematical calculations on strings and numbers together."
      ]
    },
    {
      "cell_type": "code",
      "metadata": {
        "colab": {
          "base_uri": "https://localhost:8080/",
          "height": 249
        },
        "id": "NLHYerEaLEnh",
        "outputId": "09bf7d8a-6b1d-42ff-c14d-0296fe0fe02a"
      },
      "source": [
        "#this program calculates age based on year of birth and current year\n",
        "\n",
        "year_of_birth = input() #the user supplies their year of birth and it is stored in the variable\n",
        "\n",
        "current_year = 2021\n",
        "\n",
        "age = current_year - year_of_birth\n",
        "\n",
        "print(age)"
      ],
      "execution_count": null,
      "outputs": [
        {
          "output_type": "stream",
          "text": [
            "1974\n"
          ],
          "name": "stdout"
        },
        {
          "output_type": "error",
          "ename": "TypeError",
          "evalue": "ignored",
          "traceback": [
            "\u001b[0;31m---------------------------------------------------------------------------\u001b[0m",
            "\u001b[0;31mTypeError\u001b[0m                                 Traceback (most recent call last)",
            "\u001b[0;32m<ipython-input-19-ec770370426d>\u001b[0m in \u001b[0;36m<module>\u001b[0;34m()\u001b[0m\n\u001b[1;32m      5\u001b[0m \u001b[0mcurrent_year\u001b[0m \u001b[0;34m=\u001b[0m \u001b[0;36m2021\u001b[0m\u001b[0;34m\u001b[0m\u001b[0;34m\u001b[0m\u001b[0m\n\u001b[1;32m      6\u001b[0m \u001b[0;34m\u001b[0m\u001b[0m\n\u001b[0;32m----> 7\u001b[0;31m \u001b[0mage\u001b[0m \u001b[0;34m=\u001b[0m \u001b[0mcurrent_year\u001b[0m \u001b[0;34m-\u001b[0m \u001b[0myear_of_birth\u001b[0m\u001b[0;34m\u001b[0m\u001b[0;34m\u001b[0m\u001b[0m\n\u001b[0m\u001b[1;32m      8\u001b[0m \u001b[0;34m\u001b[0m\u001b[0m\n\u001b[1;32m      9\u001b[0m \u001b[0mprint\u001b[0m\u001b[0;34m(\u001b[0m\u001b[0mage\u001b[0m\u001b[0;34m)\u001b[0m\u001b[0;34m\u001b[0m\u001b[0;34m\u001b[0m\u001b[0m\n",
            "\u001b[0;31mTypeError\u001b[0m: unsupported operand type(s) for -: 'int' and 'str'"
          ]
        }
      ]
    },
    {
      "cell_type": "markdown",
      "metadata": {
        "id": "sxGVXz3YLV4s"
      },
      "source": [
        "Look closely at this error \n",
        "\n",
        "```\n",
        "TypeError: unsupported operand type(s) for -: 'int' and 'str'\n",
        "```\n",
        "\n",
        "It is telling us that our operand (-) doesn't support subtraction between an int (current_year) and str (year_of_birth).\n",
        "\n",
        "But we can fix that.  We can use a function to change the input value to whatever data type we want.\n",
        "\n",
        "Change the first line of code below to read...\n",
        "\n",
        "year_of_birth = int(input())\n"
      ]
    },
    {
      "cell_type": "code",
      "metadata": {
        "id": "5RWZ71ZgMHyL"
      },
      "source": [
        "#this program calculates age based on year of birth and current year\n",
        "\n",
        "year_of_birth = int( input(\"Please enter your year of birth: \") ) #the user supplies their year of birth and it is stored in the variable\n",
        "\n",
        "current_year = 2021\n",
        "\n",
        "age = current_year - year_of_birth\n",
        "\n",
        "print(age)"
      ],
      "execution_count": null,
      "outputs": []
    },
    {
      "cell_type": "markdown",
      "metadata": {
        "id": "q9eBJJcnO_9W"
      },
      "source": [
        ""
      ]
    }
  ]
}